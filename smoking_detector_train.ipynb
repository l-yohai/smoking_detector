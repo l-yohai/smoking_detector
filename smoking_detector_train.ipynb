{
  "nbformat": 4,
  "nbformat_minor": 0,
  "metadata": {
    "accelerator": "GPU",
    "colab": {
      "name": "smoking_detector_train.ipynb",
      "provenance": [],
      "collapsed_sections": []
    },
    "kernelspec": {
      "display_name": "Python 3",
      "name": "python3"
    },
    "language_info": {
      "name": "python"
    }
  },
  "cells": [
    {
      "cell_type": "code",
      "metadata": {
        "id": "y6mXKPSA2br8"
      },
      "source": [
        "!pip install tensorflow==2.0.0"
      ],
      "execution_count": null,
      "outputs": []
    },
    {
      "cell_type": "code",
      "metadata": {
        "id": "fnoNeZnM3LrE"
      },
      "source": [
        "!pip install tensorflow-gpu==2.0.0"
      ],
      "execution_count": null,
      "outputs": []
    },
    {
      "cell_type": "code",
      "metadata": {
        "id": "JNHOoaHM24qV"
      },
      "source": [
        "%tensorflow_version 2.x"
      ],
      "execution_count": null,
      "outputs": []
    },
    {
      "cell_type": "code",
      "metadata": {
        "colab": {
          "base_uri": "https://localhost:8080/",
          "height": 35
        },
        "id": "z6Y6tZjJ2wCR",
        "outputId": "f33b44c6-0140-445c-e325-d45307caed20"
      },
      "source": [
        "import tensorflow as tf\n",
        "tf.__version__"
      ],
      "execution_count": null,
      "outputs": [
        {
          "output_type": "execute_result",
          "data": {
            "application/vnd.google.colaboratory.intrinsic+json": {
              "type": "string"
            },
            "text/plain": [
              "'2.0.0'"
            ]
          },
          "metadata": {
            "tags": []
          },
          "execution_count": 2
        }
      ]
    },
    {
      "cell_type": "code",
      "metadata": {
        "colab": {
          "base_uri": "https://localhost:8080/"
        },
        "id": "DkLN6arthV5_",
        "outputId": "8962493e-ff82-433b-eb4b-bf48e7ec83fb"
      },
      "source": [
        "!git clone https://github.com/carolinedunn/face_mask_detection"
      ],
      "execution_count": null,
      "outputs": [
        {
          "output_type": "stream",
          "text": [
            "Cloning into 'face_mask_detection'...\n",
            "remote: Enumerating objects: 10, done.\u001b[K\n",
            "remote: Counting objects: 100% (10/10), done.\u001b[K\n",
            "remote: Compressing objects: 100% (10/10), done.\u001b[K\n",
            "remote: Total 266 (delta 2), reused 1 (delta 0), pack-reused 256\u001b[K\n",
            "Receiving objects: 100% (266/266), 70.62 MiB | 48.34 MiB/s, done.\n",
            "Resolving deltas: 100% (67/67), done.\n"
          ],
          "name": "stdout"
        }
      ]
    },
    {
      "cell_type": "code",
      "metadata": {
        "id": "J7488vVmhd4U"
      },
      "source": [
        "!unzip /content/'Class 2-samples.zip'"
      ],
      "execution_count": null,
      "outputs": []
    },
    {
      "cell_type": "code",
      "metadata": {
        "id": "HkomIz6Gh7t4"
      },
      "source": [
        "!mkdir class2"
      ],
      "execution_count": null,
      "outputs": []
    },
    {
      "cell_type": "code",
      "metadata": {
        "id": "JKRyWjcriEY0"
      },
      "source": [
        "!mv *.jpg class2"
      ],
      "execution_count": null,
      "outputs": []
    },
    {
      "cell_type": "code",
      "metadata": {
        "id": "chSw_lXOiGhX"
      },
      "source": [
        "!unzip /content/Class1-samples.zip"
      ],
      "execution_count": null,
      "outputs": []
    },
    {
      "cell_type": "code",
      "metadata": {
        "id": "2t15MxleiJ-M"
      },
      "source": [
        "!mkdir class1"
      ],
      "execution_count": null,
      "outputs": []
    },
    {
      "cell_type": "code",
      "metadata": {
        "id": "7xrab2ociLIg"
      },
      "source": [
        "!mv *.jpg class1"
      ],
      "execution_count": null,
      "outputs": []
    },
    {
      "cell_type": "code",
      "metadata": {
        "id": "I4qSZ_SkiMe8"
      },
      "source": [
        "!mv class1 /content/face_mask_detection/dataset"
      ],
      "execution_count": null,
      "outputs": []
    },
    {
      "cell_type": "code",
      "metadata": {
        "id": "Ycz3d7g8iS00"
      },
      "source": [
        "!mv class2 /content/face_mask_detection/dataset"
      ],
      "execution_count": null,
      "outputs": []
    },
    {
      "cell_type": "code",
      "metadata": {
        "id": "q_4nmigOiTkd"
      },
      "source": [
        "!cd /content/face_mask_detection/dataset && rm -rf with_mask"
      ],
      "execution_count": null,
      "outputs": []
    },
    {
      "cell_type": "code",
      "metadata": {
        "id": "3gwsL_b3iYaU"
      },
      "source": [
        "!cd /content/face_mask_detection/dataset && rm -rf without_mask"
      ],
      "execution_count": null,
      "outputs": []
    },
    {
      "cell_type": "code",
      "metadata": {
        "colab": {
          "base_uri": "https://localhost:8080/"
        },
        "id": "lv0taaIuiZz-",
        "outputId": "f742d2f9-7858-4fab-d06b-30577a7f03d5"
      },
      "source": [
        "!cd /content/face_mask_detection && python3 train_mask_detector.py --dataset dataset --plot mymodelplot.png --model my.model"
      ],
      "execution_count": null,
      "outputs": [
        {
          "output_type": "stream",
          "text": [
            "[INFO] loading images...\n",
            "tcmalloc: large alloc 1740103680 bytes == 0x560a10c9a000 @  0x7f1db60d01e7 0x7f1db356746e 0x7f1db35b7c7b 0x7f1db35bae83 0x7f1db35bb07b 0x7f1db365c761 0x5609a29300e4 0x5609a292fde0 0x5609a29a46f5 0x5609a299eb0e 0x5609a299e813 0x5609a2a68592 0x5609a2a6890d 0x5609a2a687b6 0x5609a2a40103 0x5609a2a3fdac 0x7f1db4ebabf7 0x5609a2a3fc8a\n",
            "tcmalloc: large alloc 1392082944 bytes == 0x5609a85d2000 @  0x7f1db60d01e7 0x7f1db356746e 0x7f1db35b7c7b 0x7f1db35b7d18 0x7f1db364a3a9 0x7f1db364cab5 0x5609a2a17e59 0x5609a299ffad 0x5609a299eb0e 0x5609a293177a 0x5609a29a086a 0x5609a299eb0e 0x5609a293177a 0x5609a299fa45 0x5609a2a22858 0x5609a2a186fe 0x5609a2a08525 0x5609a293ec94 0x5609a296fc84 0x5609a29307f2 0x5609a29a3d75 0x5609a299ee0d 0x5609a293177a 0x5609a29a086a 0x5609a299eb0e 0x5609a299e813 0x5609a2a68592 0x5609a2a6890d 0x5609a2a687b6 0x5609a2a40103 0x5609a2a3fdac\n",
            "/usr/local/lib/python3.7/dist-packages/keras_applications/mobilenet_v2.py:294: UserWarning: `input_shape` is undefined or non-square, or `rows` is not in [96, 128, 160, 192, 224]. Weights for input shape (224, 224) will be loaded as the default.\n",
            "  warnings.warn('`input_shape` is undefined or non-square, '\n",
            "2021-04-11 07:42:14.334771: I tensorflow/stream_executor/platform/default/dso_loader.cc:44] Successfully opened dynamic library libcuda.so.1\n",
            "2021-04-11 07:42:14.364641: I tensorflow/stream_executor/cuda/cuda_gpu_executor.cc:1006] successful NUMA node read from SysFS had negative value (-1), but there must be at least one NUMA node, so returning NUMA node zero\n",
            "2021-04-11 07:42:14.365248: I tensorflow/core/common_runtime/gpu/gpu_device.cc:1618] Found device 0 with properties: \n",
            "name: Tesla T4 major: 7 minor: 5 memoryClockRate(GHz): 1.59\n",
            "pciBusID: 0000:00:04.0\n",
            "2021-04-11 07:42:14.376317: I tensorflow/stream_executor/platform/default/dso_loader.cc:44] Successfully opened dynamic library libcudart.so.10.0\n",
            "2021-04-11 07:42:14.548166: I tensorflow/stream_executor/platform/default/dso_loader.cc:44] Successfully opened dynamic library libcublas.so.10.0\n",
            "2021-04-11 07:42:14.638060: I tensorflow/stream_executor/platform/default/dso_loader.cc:44] Successfully opened dynamic library libcufft.so.10.0\n",
            "2021-04-11 07:42:14.655821: I tensorflow/stream_executor/platform/default/dso_loader.cc:44] Successfully opened dynamic library libcurand.so.10.0\n",
            "2021-04-11 07:42:14.882508: I tensorflow/stream_executor/platform/default/dso_loader.cc:44] Successfully opened dynamic library libcusolver.so.10.0\n",
            "2021-04-11 07:42:15.039299: I tensorflow/stream_executor/platform/default/dso_loader.cc:44] Successfully opened dynamic library libcusparse.so.10.0\n",
            "2021-04-11 07:42:15.538416: I tensorflow/stream_executor/platform/default/dso_loader.cc:44] Successfully opened dynamic library libcudnn.so.7\n",
            "2021-04-11 07:42:15.538655: I tensorflow/stream_executor/cuda/cuda_gpu_executor.cc:1006] successful NUMA node read from SysFS had negative value (-1), but there must be at least one NUMA node, so returning NUMA node zero\n",
            "2021-04-11 07:42:15.539381: I tensorflow/stream_executor/cuda/cuda_gpu_executor.cc:1006] successful NUMA node read from SysFS had negative value (-1), but there must be at least one NUMA node, so returning NUMA node zero\n",
            "2021-04-11 07:42:15.539989: I tensorflow/core/common_runtime/gpu/gpu_device.cc:1746] Adding visible gpu devices: 0\n",
            "2021-04-11 07:42:15.540450: I tensorflow/core/platform/cpu_feature_guard.cc:142] Your CPU supports instructions that this TensorFlow binary was not compiled to use: AVX2 FMA\n",
            "2021-04-11 07:42:15.545559: I tensorflow/core/platform/profile_utils/cpu_utils.cc:94] CPU Frequency: 2199995000 Hz\n",
            "2021-04-11 07:42:15.545880: I tensorflow/compiler/xla/service/service.cc:168] XLA service 0x5609a41a4840 executing computations on platform Host. Devices:\n",
            "2021-04-11 07:42:15.545907: I tensorflow/compiler/xla/service/service.cc:175]   StreamExecutor device (0): Host, Default Version\n",
            "2021-04-11 07:42:15.656058: I tensorflow/stream_executor/cuda/cuda_gpu_executor.cc:1006] successful NUMA node read from SysFS had negative value (-1), but there must be at least one NUMA node, so returning NUMA node zero\n",
            "2021-04-11 07:42:15.656772: I tensorflow/compiler/xla/service/service.cc:168] XLA service 0x5609a41a4f40 executing computations on platform CUDA. Devices:\n",
            "2021-04-11 07:42:15.656806: I tensorflow/compiler/xla/service/service.cc:175]   StreamExecutor device (0): Tesla T4, Compute Capability 7.5\n",
            "2021-04-11 07:42:15.657072: I tensorflow/stream_executor/cuda/cuda_gpu_executor.cc:1006] successful NUMA node read from SysFS had negative value (-1), but there must be at least one NUMA node, so returning NUMA node zero\n",
            "2021-04-11 07:42:15.657606: I tensorflow/core/common_runtime/gpu/gpu_device.cc:1618] Found device 0 with properties: \n",
            "name: Tesla T4 major: 7 minor: 5 memoryClockRate(GHz): 1.59\n",
            "pciBusID: 0000:00:04.0\n",
            "2021-04-11 07:42:15.657680: I tensorflow/stream_executor/platform/default/dso_loader.cc:44] Successfully opened dynamic library libcudart.so.10.0\n",
            "2021-04-11 07:42:15.657707: I tensorflow/stream_executor/platform/default/dso_loader.cc:44] Successfully opened dynamic library libcublas.so.10.0\n",
            "2021-04-11 07:42:15.657729: I tensorflow/stream_executor/platform/default/dso_loader.cc:44] Successfully opened dynamic library libcufft.so.10.0\n",
            "2021-04-11 07:42:15.657750: I tensorflow/stream_executor/platform/default/dso_loader.cc:44] Successfully opened dynamic library libcurand.so.10.0\n",
            "2021-04-11 07:42:15.657771: I tensorflow/stream_executor/platform/default/dso_loader.cc:44] Successfully opened dynamic library libcusolver.so.10.0\n",
            "2021-04-11 07:42:15.657791: I tensorflow/stream_executor/platform/default/dso_loader.cc:44] Successfully opened dynamic library libcusparse.so.10.0\n",
            "2021-04-11 07:42:15.657811: I tensorflow/stream_executor/platform/default/dso_loader.cc:44] Successfully opened dynamic library libcudnn.so.7\n",
            "2021-04-11 07:42:15.657884: I tensorflow/stream_executor/cuda/cuda_gpu_executor.cc:1006] successful NUMA node read from SysFS had negative value (-1), but there must be at least one NUMA node, so returning NUMA node zero\n",
            "2021-04-11 07:42:15.658461: I tensorflow/stream_executor/cuda/cuda_gpu_executor.cc:1006] successful NUMA node read from SysFS had negative value (-1), but there must be at least one NUMA node, so returning NUMA node zero\n",
            "2021-04-11 07:42:15.658981: I tensorflow/core/common_runtime/gpu/gpu_device.cc:1746] Adding visible gpu devices: 0\n",
            "2021-04-11 07:42:15.659053: I tensorflow/stream_executor/platform/default/dso_loader.cc:44] Successfully opened dynamic library libcudart.so.10.0\n",
            "2021-04-11 07:42:15.660456: I tensorflow/core/common_runtime/gpu/gpu_device.cc:1159] Device interconnect StreamExecutor with strength 1 edge matrix:\n",
            "2021-04-11 07:42:15.660487: I tensorflow/core/common_runtime/gpu/gpu_device.cc:1165]      0 \n",
            "2021-04-11 07:42:15.660497: I tensorflow/core/common_runtime/gpu/gpu_device.cc:1178] 0:   N \n",
            "2021-04-11 07:42:15.660656: I tensorflow/stream_executor/cuda/cuda_gpu_executor.cc:1006] successful NUMA node read from SysFS had negative value (-1), but there must be at least one NUMA node, so returning NUMA node zero\n",
            "2021-04-11 07:42:15.661281: I tensorflow/stream_executor/cuda/cuda_gpu_executor.cc:1006] successful NUMA node read from SysFS had negative value (-1), but there must be at least one NUMA node, so returning NUMA node zero\n",
            "2021-04-11 07:42:15.661821: W tensorflow/core/common_runtime/gpu/gpu_bfc_allocator.cc:39] Overriding allow_growth setting because the TF_FORCE_GPU_ALLOW_GROWTH environment variable is set. Original config value was 0.\n",
            "2021-04-11 07:42:15.661864: I tensorflow/core/common_runtime/gpu/gpu_device.cc:1304] Created TensorFlow device (/job:localhost/replica:0/task:0/device:GPU:0 with 14257 MB memory) -> physical GPU (device: 0, name: Tesla T4, pci bus id: 0000:00:04.0, compute capability: 7.5)\n",
            "Downloading data from https://github.com/JonathanCMitchell/mobilenet_v2_keras/releases/download/v1.1/mobilenet_v2_weights_tf_dim_ordering_tf_kernels_1.0_224_no_top.h5\n",
            "9412608/9406464 [==============================] - 0s 0us/step\n",
            "[INFO] compiling model...\n",
            "[INFO] training head...\n",
            "2021-04-11 07:42:29.176978: I tensorflow/core/kernels/data/shuffle_dataset_op.cc:143] Filling up shuffle buffer (this may take a while): 36 of 73\n",
            "2021-04-11 07:42:39.071922: I tensorflow/core/kernels/data/shuffle_dataset_op.cc:143] Filling up shuffle buffer (this may take a while): 71 of 73\n",
            "2021-04-11 07:42:39.426596: I tensorflow/core/kernels/data/shuffle_dataset_op.cc:193] Shuffle buffer filled.\n",
            "Train for 72 steps, validate on 578 samples\n",
            "Epoch 1/20\n",
            "2021-04-11 07:42:42.056348: I tensorflow/stream_executor/platform/default/dso_loader.cc:44] Successfully opened dynamic library libcublas.so.10.0\n",
            "2021-04-11 07:42:53.568785: I tensorflow/core/kernels/data/shuffle_dataset_op.cc:143] Filling up shuffle buffer (this may take a while): 37 of 73\n",
            "2021-04-11 07:43:03.410674: I tensorflow/core/kernels/data/shuffle_dataset_op.cc:193] Shuffle buffer filled.\n",
            "2021-04-11 07:43:03.418554: I tensorflow/stream_executor/platform/default/dso_loader.cc:44] Successfully opened dynamic library libcudnn.so.7\n",
            "71/72 [============================>.] - ETA: 0s - loss: 0.7350 - accuracy: 0.57832021-04-11 07:43:13.055380: W tensorflow/core/framework/cpu_allocator_impl.cc:81] Allocation of 19267584 exceeds 10% of system memory.\n",
            "2021-04-11 07:43:13.059858: W tensorflow/core/framework/cpu_allocator_impl.cc:81] Allocation of 19267584 exceeds 10% of system memory.\n",
            "2021-04-11 07:43:13.068973: W tensorflow/core/framework/cpu_allocator_impl.cc:81] Allocation of 19267584 exceeds 10% of system memory.\n",
            "2021-04-11 07:43:13.102293: W tensorflow/core/framework/cpu_allocator_impl.cc:81] Allocation of 19267584 exceeds 10% of system memory.\n",
            "2021-04-11 07:43:13.143235: W tensorflow/core/framework/cpu_allocator_impl.cc:81] Allocation of 19267584 exceeds 10% of system memory.\n",
            "72/72 [==============================] - 34s 475ms/step - loss: 0.7327 - accuracy: 0.5789 - val_loss: 0.5666 - val_accuracy: 0.6858\n",
            "Epoch 2/20\n",
            "2021-04-11 07:43:23.893996: I tensorflow/core/kernels/data/shuffle_dataset_op.cc:143] Filling up shuffle buffer (this may take a while): 36 of 73\n",
            "2021-04-11 07:43:33.819649: I tensorflow/core/kernels/data/shuffle_dataset_op.cc:143] Filling up shuffle buffer (this may take a while): 71 of 73\n",
            "2021-04-11 07:43:34.176680: I tensorflow/core/kernels/data/shuffle_dataset_op.cc:193] Shuffle buffer filled.\n",
            "72/72 [==============================] - 24s 335ms/step - loss: 0.5850 - accuracy: 0.6886 - val_loss: 0.5088 - val_accuracy: 0.7222\n",
            "Epoch 3/20\n",
            "2021-04-11 07:43:47.991296: I tensorflow/core/kernels/data/shuffle_dataset_op.cc:143] Filling up shuffle buffer (this may take a while): 36 of 73\n",
            "2021-04-11 07:43:58.007558: I tensorflow/core/kernels/data/shuffle_dataset_op.cc:143] Filling up shuffle buffer (this may take a while): 72 of 73\n",
            "2021-04-11 07:43:58.080891: I tensorflow/core/kernels/data/shuffle_dataset_op.cc:193] Shuffle buffer filled.\n",
            "72/72 [==============================] - 24s 332ms/step - loss: 0.5137 - accuracy: 0.7421 - val_loss: 0.5270 - val_accuracy: 0.6997\n",
            "Epoch 4/20\n",
            "2021-04-11 07:44:12.065814: I tensorflow/core/kernels/data/shuffle_dataset_op.cc:143] Filling up shuffle buffer (this may take a while): 37 of 73\n",
            "2021-04-11 07:44:21.835791: I tensorflow/core/kernels/data/shuffle_dataset_op.cc:193] Shuffle buffer filled.\n",
            "72/72 [==============================] - 24s 330ms/step - loss: 0.4743 - accuracy: 0.7662 - val_loss: 0.4364 - val_accuracy: 0.7726\n",
            "Epoch 5/20\n",
            "2021-04-11 07:44:35.870730: I tensorflow/core/kernels/data/shuffle_dataset_op.cc:143] Filling up shuffle buffer (this may take a while): 37 of 73\n",
            "2021-04-11 07:44:45.629669: I tensorflow/core/kernels/data/shuffle_dataset_op.cc:193] Shuffle buffer filled.\n",
            "72/72 [==============================] - 24s 331ms/step - loss: 0.4584 - accuracy: 0.7807 - val_loss: 0.4250 - val_accuracy: 0.7969\n",
            "Epoch 6/20\n",
            "2021-04-11 07:44:59.464760: I tensorflow/core/kernels/data/shuffle_dataset_op.cc:143] Filling up shuffle buffer (this may take a while): 36 of 73\n",
            "2021-04-11 07:45:09.480811: I tensorflow/core/kernels/data/shuffle_dataset_op.cc:193] Shuffle buffer filled.\n",
            "72/72 [==============================] - 24s 330ms/step - loss: 0.4442 - accuracy: 0.7877 - val_loss: 0.3945 - val_accuracy: 0.8229\n",
            "Epoch 7/20\n",
            "2021-04-11 07:45:23.456862: I tensorflow/core/kernels/data/shuffle_dataset_op.cc:143] Filling up shuffle buffer (this may take a while): 37 of 73\n",
            "2021-04-11 07:45:33.199739: I tensorflow/core/kernels/data/shuffle_dataset_op.cc:193] Shuffle buffer filled.\n",
            "72/72 [==============================] - 24s 330ms/step - loss: 0.4131 - accuracy: 0.8110 - val_loss: 0.4044 - val_accuracy: 0.8125\n",
            "Epoch 8/20\n",
            "2021-04-11 07:45:47.217311: I tensorflow/core/kernels/data/shuffle_dataset_op.cc:143] Filling up shuffle buffer (this may take a while): 37 of 73\n",
            "2021-04-11 07:45:56.961165: I tensorflow/core/kernels/data/shuffle_dataset_op.cc:193] Shuffle buffer filled.\n",
            "72/72 [==============================] - 24s 330ms/step - loss: 0.3970 - accuracy: 0.8167 - val_loss: 0.4242 - val_accuracy: 0.8073\n",
            "Epoch 9/20\n",
            "2021-04-11 07:46:10.878137: I tensorflow/core/kernels/data/shuffle_dataset_op.cc:143] Filling up shuffle buffer (this may take a while): 36 of 73\n",
            "2021-04-11 07:46:20.840293: I tensorflow/core/kernels/data/shuffle_dataset_op.cc:143] Filling up shuffle buffer (this may take a while): 72 of 73\n",
            "2021-04-11 07:46:20.908590: I tensorflow/core/kernels/data/shuffle_dataset_op.cc:193] Shuffle buffer filled.\n",
            "72/72 [==============================] - 24s 333ms/step - loss: 0.3901 - accuracy: 0.8180 - val_loss: 0.3865 - val_accuracy: 0.8247\n",
            "Epoch 10/20\n",
            "2021-04-11 07:46:34.708144: I tensorflow/core/kernels/data/shuffle_dataset_op.cc:143] Filling up shuffle buffer (this may take a while): 36 of 73\n",
            "2021-04-11 07:46:44.703512: I tensorflow/core/kernels/data/shuffle_dataset_op.cc:193] Shuffle buffer filled.\n",
            "72/72 [==============================] - 24s 330ms/step - loss: 0.3825 - accuracy: 0.8237 - val_loss: 0.4281 - val_accuracy: 0.8125\n",
            "Epoch 11/20\n",
            "2021-04-11 07:46:58.658578: I tensorflow/core/kernels/data/shuffle_dataset_op.cc:143] Filling up shuffle buffer (this may take a while): 37 of 73\n",
            "2021-04-11 07:47:08.390316: I tensorflow/core/kernels/data/shuffle_dataset_op.cc:193] Shuffle buffer filled.\n",
            "72/72 [==============================] - 24s 329ms/step - loss: 0.3613 - accuracy: 0.8424 - val_loss: 0.4541 - val_accuracy: 0.7969\n",
            "Epoch 12/20\n",
            "2021-04-11 07:47:22.359513: I tensorflow/core/kernels/data/shuffle_dataset_op.cc:143] Filling up shuffle buffer (this may take a while): 37 of 73\n",
            "2021-04-11 07:47:32.119240: I tensorflow/core/kernels/data/shuffle_dataset_op.cc:193] Shuffle buffer filled.\n",
            "72/72 [==============================] - 24s 329ms/step - loss: 0.3609 - accuracy: 0.8377 - val_loss: 0.3720 - val_accuracy: 0.8316\n",
            "Epoch 13/20\n",
            "2021-04-11 07:47:46.141594: I tensorflow/core/kernels/data/shuffle_dataset_op.cc:143] Filling up shuffle buffer (this may take a while): 37 of 73\n",
            "2021-04-11 07:47:55.854084: I tensorflow/core/kernels/data/shuffle_dataset_op.cc:193] Shuffle buffer filled.\n",
            "72/72 [==============================] - 24s 329ms/step - loss: 0.3452 - accuracy: 0.8531 - val_loss: 0.3752 - val_accuracy: 0.8368\n",
            "Epoch 14/20\n",
            "2021-04-11 07:48:09.823018: I tensorflow/core/kernels/data/shuffle_dataset_op.cc:143] Filling up shuffle buffer (this may take a while): 37 of 73\n",
            "2021-04-11 07:48:19.542860: I tensorflow/core/kernels/data/shuffle_dataset_op.cc:193] Shuffle buffer filled.\n",
            "72/72 [==============================] - 24s 329ms/step - loss: 0.3492 - accuracy: 0.8482 - val_loss: 0.3849 - val_accuracy: 0.8316\n",
            "Epoch 15/20\n",
            "2021-04-11 07:48:33.478027: I tensorflow/core/kernels/data/shuffle_dataset_op.cc:143] Filling up shuffle buffer (this may take a while): 37 of 73\n",
            "2021-04-11 07:48:43.201236: I tensorflow/core/kernels/data/shuffle_dataset_op.cc:193] Shuffle buffer filled.\n",
            "72/72 [==============================] - 24s 328ms/step - loss: 0.3325 - accuracy: 0.8461 - val_loss: 0.3910 - val_accuracy: 0.8351\n",
            "Epoch 16/20\n",
            "2021-04-11 07:48:57.024663: I tensorflow/core/kernels/data/shuffle_dataset_op.cc:143] Filling up shuffle buffer (this may take a while): 36 of 73\n",
            "2021-04-11 07:49:06.992281: I tensorflow/core/kernels/data/shuffle_dataset_op.cc:193] Shuffle buffer filled.\n",
            "72/72 [==============================] - 24s 331ms/step - loss: 0.3290 - accuracy: 0.8583 - val_loss: 0.4308 - val_accuracy: 0.8177\n",
            "Epoch 17/20\n",
            "2021-04-11 07:49:20.949980: I tensorflow/core/kernels/data/shuffle_dataset_op.cc:143] Filling up shuffle buffer (this may take a while): 37 of 73\n",
            "2021-04-11 07:49:30.628565: I tensorflow/core/kernels/data/shuffle_dataset_op.cc:193] Shuffle buffer filled.\n",
            "72/72 [==============================] - 24s 328ms/step - loss: 0.3153 - accuracy: 0.8627 - val_loss: 0.4799 - val_accuracy: 0.7934\n",
            "Epoch 18/20\n",
            "2021-04-11 07:49:44.578043: I tensorflow/core/kernels/data/shuffle_dataset_op.cc:143] Filling up shuffle buffer (this may take a while): 37 of 73\n",
            "2021-04-11 07:49:54.273815: I tensorflow/core/kernels/data/shuffle_dataset_op.cc:193] Shuffle buffer filled.\n",
            "72/72 [==============================] - 24s 328ms/step - loss: 0.3338 - accuracy: 0.8557 - val_loss: 0.3824 - val_accuracy: 0.8368\n",
            "Epoch 19/20\n",
            "2021-04-11 07:50:08.265807: I tensorflow/core/kernels/data/shuffle_dataset_op.cc:143] Filling up shuffle buffer (this may take a while): 37 of 73\n",
            "2021-04-11 07:50:18.094231: I tensorflow/core/kernels/data/shuffle_dataset_op.cc:193] Shuffle buffer filled.\n",
            "72/72 [==============================] - 24s 331ms/step - loss: 0.3231 - accuracy: 0.8504 - val_loss: 0.3885 - val_accuracy: 0.8316\n",
            "Epoch 20/20\n",
            "2021-04-11 07:50:32.100070: I tensorflow/core/kernels/data/shuffle_dataset_op.cc:143] Filling up shuffle buffer (this may take a while): 37 of 73\n",
            "2021-04-11 07:50:41.774872: I tensorflow/core/kernels/data/shuffle_dataset_op.cc:193] Shuffle buffer filled.\n",
            "72/72 [==============================] - 24s 328ms/step - loss: 0.3286 - accuracy: 0.8469 - val_loss: 0.3658 - val_accuracy: 0.8490\n",
            "[INFO] evaluating network...\n",
            "              precision    recall  f1-score   support\n",
            "\n",
            "      class1       0.80      0.92      0.86       283\n",
            "      class2       0.91      0.78      0.84       295\n",
            "\n",
            "    accuracy                           0.85       578\n",
            "   macro avg       0.86      0.85      0.85       578\n",
            "weighted avg       0.86      0.85      0.85       578\n",
            "\n",
            "[INFO] saving mask detector model...\n"
          ],
          "name": "stdout"
        }
      ]
    },
    {
      "cell_type": "code",
      "metadata": {
        "id": "VVB52UHLinGo"
      },
      "source": [
        "!cd /content/face_mask_detection && python3 detect_mask_picam.py --model my_mask_detector.model"
      ],
      "execution_count": null,
      "outputs": []
    },
    {
      "cell_type": "code",
      "metadata": {
        "colab": {
          "base_uri": "https://localhost:8080/",
          "height": 35
        },
        "id": "EuzLGS-vw10Q",
        "outputId": "e5bb0bbf-55ce-40bb-80cb-ce50374f00e4"
      },
      "source": [
        "import tensorflow as tf\n",
        "tf.__version__\n"
      ],
      "execution_count": null,
      "outputs": [
        {
          "output_type": "execute_result",
          "data": {
            "application/vnd.google.colaboratory.intrinsic+json": {
              "type": "string"
            },
            "text/plain": [
              "'2.0.0'"
            ]
          },
          "metadata": {
            "tags": []
          },
          "execution_count": 16
        }
      ]
    },
    {
      "cell_type": "code",
      "metadata": {
        "colab": {
          "background_save": true
        },
        "id": "V64Ek8I-xL0X",
        "outputId": "e3731e13-ff1a-48d5-ea2d-f99e67a1f38b"
      },
      "source": [
        ""
      ],
      "execution_count": null,
      "outputs": [
        {
          "output_type": "display_data",
          "data": {
            "application/javascript": [
              "\n",
              "    async function download(id, filename, size) {\n",
              "      if (!google.colab.kernel.accessAllowed) {\n",
              "        return;\n",
              "      }\n",
              "      const div = document.createElement('div');\n",
              "      const label = document.createElement('label');\n",
              "      label.textContent = `Downloading \"${filename}\": `;\n",
              "      div.appendChild(label);\n",
              "      const progress = document.createElement('progress');\n",
              "      progress.max = size;\n",
              "      div.appendChild(progress);\n",
              "      document.body.appendChild(div);\n",
              "\n",
              "      const buffers = [];\n",
              "      let downloaded = 0;\n",
              "\n",
              "      const channel = await google.colab.kernel.comms.open(id);\n",
              "      // Send a message to notify the kernel that we're ready.\n",
              "      channel.send({})\n",
              "\n",
              "      for await (const message of channel.messages) {\n",
              "        // Send a message to notify the kernel that we're ready.\n",
              "        channel.send({})\n",
              "        if (message.buffers) {\n",
              "          for (const buffer of message.buffers) {\n",
              "            buffers.push(buffer);\n",
              "            downloaded += buffer.byteLength;\n",
              "            progress.value = downloaded;\n",
              "          }\n",
              "        }\n",
              "      }\n",
              "      const blob = new Blob(buffers, {type: 'application/binary'});\n",
              "      const a = document.createElement('a');\n",
              "      a.href = window.URL.createObjectURL(blob);\n",
              "      a.download = filename;\n",
              "      div.appendChild(a);\n",
              "      a.click();\n",
              "      div.remove();\n",
              "    }\n",
              "  "
            ],
            "text/plain": [
              "<IPython.core.display.Javascript object>"
            ]
          },
          "metadata": {
            "tags": []
          }
        },
        {
          "output_type": "display_data",
          "data": {
            "application/javascript": [
              "download(\"download_affe206d-b0f3-4235-ad0d-59893ef3900c\", \"my.model\", 11483520)"
            ],
            "text/plain": [
              "<IPython.core.display.Javascript object>"
            ]
          },
          "metadata": {
            "tags": []
          }
        }
      ]
    }
  ]
}
